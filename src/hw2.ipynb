{
 "cells": [
  {
   "cell_type": "markdown",
   "metadata": {},
   "source": [
    "# ECON 8185 - Homework 2\n",
    "### Business Cycle Accounting\n",
    "### Dhananjay Ghei\n",
    "\n",
    "\n",
    "1. Write a code that derives the log-linearised solution to the\n",
    "  prototype growth model with wedges in state-space form with\n",
    "  measurement error\n",
    "  \\begin{align*}\n",
    "    X_{t+1} &= AX_t + B\\epsilon_{t+1}\\\\\n",
    "    Y_t &= CX_t + \\omega_t\n",
    "  \\end{align*}\n",
    "  where $X_t = [\\text{log}\\tilde{k}_t, s_t, 1]$,\n",
    "  $s_t = [\\text{log}A_t, \\text{log}\\tau_{l,t}, \\text{log}\\tau_{x,t},\n",
    "  \\text{log}\\hat{g}_t]$,\n",
    "  $Y_t = [\\text{log}\\hat{y}_t, \\text{log}\\hat{x}_t, \\text{log}l_t,\n",
    "  \\text{log}\\hat{g}_t]$\n",
    "  and $\\omega_t \\sim N(0,R)$ is i.i.d. Please use a standard\n",
    "  calibration for preference and technology parameters and the only\n",
    "  unknown parameters $\\{P,Q\\}$ which describe the law of motion for\n",
    "  the wedges:\n",
    "  \\begin{align*}\n",
    "    s_{t+1} = Ps_t+Q\\epsilon_{t+1}\n",
    "  \\end{align*}"
   ]
  },
  {
   "cell_type": "markdown",
   "metadata": {},
   "source": [
    "The prototype growth model as in Chari, Kehoe, McGrattan (2007) (CKM,\n",
    "hereafter) is as follows:\n",
    "\\begin{align*}\n",
    "  \\max_{\\{c_t, l_t, x_t, k_{t+1}\\}} \\mathbb{E}_0 \\sum_{t=0}^{\\infty} \\beta^t\n",
    "  &\\frac{(c_t(1-l_t)^{\\psi})^{1-\\sigma}}{1-\\sigma}N_t\\\\\n",
    "  c_t + (1+\\tau_{xt})x_t &= r_tk_t+(1-\\tau_{lt})w_tl_t+T_t\\\\\n",
    "  N_{t+1}k_{t+1} &= [(1-\\delta)k_t+x_t]N_t\\\\\n",
    "  0 \\leq &l_t \\leq 1\\\\\n",
    "  S_t &= PS_{t-1} + Q\\epsilon_t\\\\\n",
    "  c_t,x_t &\\geq 0 \n",
    "\\end{align*}\n",
    "where $N_t = (1+\\gamma_n)^t$ and firm technology is\n",
    "$Y_t = K_t^{\\theta} (Z_tL_t)^{1-\\theta}$. Factors are paid their\n",
    "marginal products $r$ and $w$, and revenues in excess of government\n",
    "purchases of goods and services, $N_tg_t$, are lump-sum transferred to\n",
    "households in amount $T_t$. The stochastic shocks hitting this economy\n",
    "affect technology, tax rates, and government spending and the\n",
    "stochastic processes are modelled as a VAR(1) process. The resource\n",
    "constraint in this economy is $Y_t=N_t(c_t+x_t+g_t)$.\n",
    "\n",
    "We de-trend the variables in the usual way and denote them by hats. We\n",
    "will also assume that the solution is interior and ignore the\n",
    "non-negativity constraints. The modified household problem is then\n",
    "given by:\n",
    "\\begin{align*}\n",
    "  \\max_{\\{c_t, l_t, x_t, k_{t+1}\\}} \\mathbb{E}_0 \\sum_{t=0}^{\\infty}\n",
    "  \\hat \\beta)^t\n",
    "  &\\frac{(\\hat c_t (1-l_t)^{\\psi})^{1-\\sigma}}{1-\\sigma}\\\\\n",
    "  \\hat c_t + (1+\\tau_{xt})\\hat x_t &= r_t \\hat k_t+(1-\\tau_{lt})w_tl_t+\\hat T_t\\\\\n",
    "  (1+\\gamma_n)(1+\\gamma_z) \\hat k_{t+1} &= [(1-\\delta) \\hat k_t+ \\hat x_t]\\\\\n",
    "  0 \\leq &l_t \\leq 1\\\\\n",
    "  S_t &= PS_{t-1} + Q\\epsilon_t\n",
    "\\end{align*}\n",
    "where, $\\hat \\beta \\equiv \\beta (1+\\gamma_n) (1+\\gamma_z)^{1-\\sigma}$."
   ]
  },
  {
   "cell_type": "code",
   "execution_count": 2,
   "metadata": {},
   "outputs": [],
   "source": [
    "# Loading the required libraries\n",
    "using ForwardDiff\n",
    "using NLSolversBase\n",
    "using NLsolve\n",
    "using SymPy\n",
    "using LinearAlgebra"
   ]
  },
  {
   "cell_type": "code",
   "execution_count": 3,
   "metadata": {},
   "outputs": [
    {
     "data": {
      "text/plain": [
       "(0.2, 0.3, 1, 0.5)"
      ]
     },
     "execution_count": 3,
     "metadata": {},
     "output_type": "execute_result"
    }
   ],
   "source": [
    "# Setting up the parameters\n",
    "β, δ, ψ, θ, γn, γz, σ = .975, .05, 2.5, .33, .010, .019, 1\n",
    "τx, τl, zss, ḡ = .2,.3, 1, .5"
   ]
  },
  {
   "cell_type": "markdown",
   "metadata": {},
   "source": [
    "The three equations characterising the non-stochastic steady state is given by:\n",
    "\\begin{align*}\n",
    "    \\frac{\\psi \\hat c}{1-l} &= (1-\\tau_l)(1-\\theta) \\hat k^{\\theta} z^{1-\\theta} l^{-\\theta}\\\\\n",
    "    \\hat c &= \\hat k^{\\theta} (z l)^{1-\\theta} -(1+\\gamma_n) (1+\\gamma_z) \\hat k + (1-\\delta) \\hat k - g\\\\\n",
    "    \\frac{\\hat k}{l} &= \\bigg[\\frac{(1+\\tau_x)((1+\\gamma_n)(1+\\gamma_z)-\\hat \\beta (1-\\delta))}{\\hat \\beta \\theta z^{1-\\theta}}\\bigg]^{\\frac{1}{\\theta-1}}\n",
    "\\end{align*}\n",
    "where, $\\hat \\beta = \\beta (1+\\gamma_n) (1+\\gamma_z)^{1-\\sigma}$.\n",
    "\n",
    "We put these equations in a non-linear solver and solve for the non-stochastic steady state."
   ]
  },
  {
   "cell_type": "code",
   "execution_count": 58,
   "metadata": {},
   "outputs": [
    {
     "data": {
      "text/plain": [
       "(2.4619617436894847, 0.504878278536013, 0.15668089232263566)"
      ]
     },
     "execution_count": 58,
     "metadata": {},
     "output_type": "execute_result"
    }
   ],
   "source": [
    "#----------------------------------------#\n",
    "# Solve for non-stochastic steady state  #\n",
    "#----------------------------------------#\n",
    "kss, lss, css = Sym(\"kss\", \"lss\",\"css\")\n",
    "eq1 = kss/lss - (((1+τx)*((1+γn)*(1+γz)-β*(1+γn)*(1+γz)^(1-σ)*(1-δ)))/\n",
    "    (β*(1+γn)*(1+γz)^(1-σ)*θ*zss^(1-θ)))^(1/(θ-1))\n",
    "eq2 = css - ((kss/lss)^(θ-1)*zss^(1-θ)-(1+γn)*(1+γz)+1-δ)*kss+ḡ\n",
    "eq3 = ψ*css/(1-lss) -((1-τl)*(1-θ)*(kss/lss)^(θ)*zss^(1-θ))\n",
    "# Solving for the non-stochastic steady state\n",
    "sol = nsolve([eq1, eq2, eq3], [kss, lss, css], [.7,.3,.56])\n",
    "kss, lss, css = convert(AbstractFloat, sol[1]), convert(AbstractFloat, sol[2]), convert(AbstractFloat, sol[3])"
   ]
  },
  {
   "cell_type": "markdown",
   "metadata": {},
   "source": [
    "Next, we begin log-linearisation.\n",
    "\n",
    "Log-linearisation is done around the steady state values."
   ]
  },
  {
   "cell_type": "code",
   "execution_count": 60,
   "metadata": {},
   "outputs": [
    {
     "data": {
      "text/plain": [
       "5-element Array{Float64,1}:\n",
       "  -3.1911995942070956\n",
       " -16.171891603541255 \n",
       "  16.721286302326604 \n",
       "   3.6418048954217483\n",
       "   3.6418048954217483"
      ]
     },
     "execution_count": 60,
     "metadata": {},
     "output_type": "execute_result"
    }
   ],
   "source": [
    "#----------------------------------------#\n",
    "#             Log linearisation          #\n",
    "#----------------------------------------#\n",
    "# Consumption\n",
    "function CFun(x)\n",
    "    g,kPrime,k,z,l = x\n",
    "    y = log((((kss^(θ)*exp(θ*k))*((zss*lss)^(1-θ)*exp((1-θ)*z)*exp((1-θ)*l)))+\n",
    "            (1-δ)*kss*exp(k)-(1+γn)*(1+γz)*kss*exp(kPrime)-ḡ*exp(g))/css)\n",
    "    return y\n",
    "end\n",
    "cCoeff = ForwardDiff.gradient(CFun, [0,0,0,0,0])"
   ]
  },
  {
   "cell_type": "code",
   "execution_count": 64,
   "metadata": {
    "scrolled": true
   },
   "outputs": [
    {
     "data": {
      "text/plain": [
       "6-element Array{Float64,1}:\n",
       "  6.420503410410818 \n",
       " -6.334566017469458 \n",
       "  1.9551857063409654\n",
       "  1.1640626070586413\n",
       "  0.1678723846313953\n",
       " -1.2500000000000016"
      ]
     },
     "execution_count": 64,
     "metadata": {},
     "output_type": "execute_result"
    }
   ],
   "source": [
    "# Labor\n",
    "function LFun(x)\n",
    "    c,k,z,τ,l = x\n",
    "    y = ψ*css*exp(c)-(((1-τl*exp(τ))*(1-θ)*(kss^(θ)*exp(θ*k)*(lss^(-θ)*exp(-θ*l))*\n",
    "                (zss^(1-θ)*exp((1-θ)*z)))*(1-lss*exp(l))))\n",
    "    return y\n",
    "end\n",
    "lCoeff = ForwardDiff.gradient(LFun, [0,0,0,0,0])\n",
    "# Coefficients in terms of c,k,z,tau\n",
    "# lCoeffInt[1:4] = lCoeffInt[1:4]/lCoeffInt[5]\n",
    "# Substituting in the coefficients of c in terms of g,kPrime, k, z,l\n",
    "# clCoeff = push!(lCoeffInt[1]*cCoeff[1:4], 0) + [0, 0, lCoeffInt[2], lCoeffInt[3], lCoeffInt[4]]\n",
    "# Log linearised labor in terms of g,kPrime,k,z,tau\n",
    "# lCoeff = clCoeff/(1-lCoeffInt[1]*cCoeff[5])\n",
    "\n",
    "# Substitute out consumption\n",
    "lNew = lCoeff[1]*cCoeff + [0, 0, lCoeff[2], lCoeff[3], lCoeff[5]]\n",
    "# Getting the coefficients in right order for the Consumption-leisure equation\n",
    "# a1 k, a2 kPrime, a3 l, a4 z, a5 \\tau_l, a6 g\n",
    "a = [lNew[3], lNew[2], lNew[5], lNew[4], lCoeff[4], lNew[1]]"
   ]
  },
  {
   "cell_type": "code",
   "execution_count": 21,
   "metadata": {},
   "outputs": [
    {
     "data": {
      "text/plain": [
       "5-element Array{Float64,1}:\n",
       "  0.932814524445741  \n",
       "  4.727180149724734  \n",
       " -4.461311068387694  \n",
       " -0.19868360578277988\n",
       " -0.12527503891000585"
      ]
     },
     "execution_count": 21,
     "metadata": {},
     "output_type": "execute_result"
    }
   ],
   "source": [
    "# Output\n",
    "yss = kss^(θ)*(zss*lss)^(1-θ)\n",
    "function gdp(x)\n",
    "    k,z,l = x\n",
    "    y = log((kss^(θ)*exp(θ*k)*(zss*lss)^(1-θ)*exp((1-θ)*z)*exp((1-θ)*l))/yss)\n",
    "    return y\n",
    "end\n",
    "# Log linearising output w.r.t k,z,l\n",
    "gdpCoeff = ForwardDiff.gradient(gdp, [0,0,0])\n",
    "# Log linearised output in terms of g,kPrime,k,z,tau\n",
    "gdpCoeff = gdpCoeff[3]*lCoeff + pushfirst!(push!(gdpCoeff[1:2],0),0,0)"
   ]
  },
  {
   "cell_type": "code",
   "execution_count": 10,
   "metadata": {},
   "outputs": [
    {
     "data": {
      "text/plain": [
       "5-element Array{Float64,1}:\n",
       "   0.0              \n",
       "  12.996464200025246\n",
       " -11.996464200025246\n",
       "   0.0              \n",
       "   0.0              "
      ]
     },
     "execution_count": 10,
     "metadata": {},
     "output_type": "execute_result"
    }
   ],
   "source": [
    "# Investment\n",
    "xss = kss*(1+γn)*(1+γz) - (1-δ)*kss\n",
    "function investment(x)\n",
    "    kPrime, k = x\n",
    "    y = log(((kss*exp(kPrime)*(1+γn)*(1+γz))-(1-δ)*kss*exp(k))/xss)\n",
    "    return y\n",
    "end\n",
    "# Log linearising investment w.r.t kPrime and k\n",
    "invCoeff = ForwardDiff.gradient(investment, [0,0])\n",
    "# Log linearised investment in terms of g, kPrime, k, z, tau\n",
    "invCoeff = pushfirst!(push!(invCoeff, 0, 0), 0)"
   ]
  },
  {
   "cell_type": "code",
   "execution_count": 65,
   "metadata": {},
   "outputs": [
    {
     "data": {
      "text/plain": [
       "8-element Array{Float64,1}:\n",
       " -7.882441704868792  \n",
       "  7.882441704868793  \n",
       "  0.48070130877802575\n",
       " -0.48070130877802575\n",
       "  1.3137402841447987 \n",
       " -1.194162844150265  \n",
       "  0.0                \n",
       " -0.48070130877802575"
      ]
     },
     "execution_count": 65,
     "metadata": {},
     "output_type": "execute_result"
    }
   ],
   "source": [
    "# Euler equation\n",
    "function eulerEQ(x)\n",
    "  c,cPrime,kPrime,zPrime,τX,τXPrime,l,lPrime = x\n",
    "  y = (1+τx*exp(τX))*(1+γn)*(1+γz)*(css^(-σ)*exp(-σ*c))*(1-lss*exp(l))^(ψ*(1-σ)) - \n",
    "    β*(1+γn)*(1+γz)^(1-σ)*(css^(-σ)*exp(-σ*cPrime))*(1-lss*exp(lPrime))^(ψ*(1-σ))*\n",
    "    (θ*kss^(θ-1)*exp((θ-1)*kPrime)*(zss^(1-θ)*exp((1-θ)*zPrime))*(lss^(1-θ)*exp((1-θ)*\n",
    "                lPrime)) + (1-δ)*(1+τx*exp(τXPrime)))\n",
    "  return y\n",
    "end\n",
    "eulerEQ(zeros(8))\n",
    "eulerCoeff = ForwardDiff.gradient(eulerEQ, zeros(8))"
   ]
  },
  {
   "cell_type": "code",
   "execution_count": 74,
   "metadata": {},
   "outputs": [
    {
     "data": {
      "text/plain": [
       "11-element Array{Float64,1}:\n",
       " -131.80456450851048  \n",
       "  259.75925863965955  \n",
       " -127.47399282237105  \n",
       "  -28.70631478866772  \n",
       "   28.225613479889695 \n",
       "  -28.70631478866772  \n",
       "    1.3137402841447987\n",
       "   25.154444769938376 \n",
       "   28.225613479889695 \n",
       "   -1.194162844150265 \n",
       "  -25.15444476993838  "
      ]
     },
     "execution_count": 74,
     "metadata": {},
     "output_type": "execute_result"
    }
   ],
   "source": [
    "# Eliminating c and cPrime from the equation\n",
    "temp1 = eulerCoeff[1]*cCoeff\n",
    "temp2 = eulerCoeff[2]*cCoeff\n",
    "kPC = temp1[2] + temp2[3] + eulerCoeff[3]\n",
    "zPC = temp2[4] + eulerCoeff[4]\n",
    "lPC = temp2[5] + eulerCoeff[8]\n",
    "lC = temp1[5] + eulerCoeff[7]\n",
    "b = [temp1[3], kPC, temp2[2], lC, lPC, temp1[4], eulerCoeff[5], temp1[1], zPC, \n",
    "    eulerCoeff[6], temp2[1]]"
   ]
  },
  {
   "cell_type": "markdown",
   "metadata": {},
   "source": [
    "2. Construct a series for $Y_t$ following Appendix B of the attached file. Use US data on quarterly frequency."
   ]
  },
  {
   "cell_type": "code",
   "execution_count": 53,
   "metadata": {},
   "outputs": [
    {
     "data": {
      "text/plain": [
       "9-element Array{Float64,1}:\n",
       "   50.30888953987676   \n",
       "  254.46728433596402   \n",
       " -263.609129017021     \n",
       "  -57.41262957733544   \n",
       "  -57.41262957733544   \n",
       "   -0.48070130877802575\n",
       "    1.3137402841447987 \n",
       "   -1.194162844150265  \n",
       "   -0.48070130877802575"
      ]
     },
     "execution_count": 53,
     "metadata": {},
     "output_type": "execute_result"
    }
   ],
   "source": [
    "# Eliminating c, cPrime from the Euler equation\n",
    "eeqCoeff = eulerCoeff[1]*cCoeff-eulerCoeff[2]*cCoeff+[0, -eulerCoeff[3], 0, 0, eulerCoeff[7]] \n",
    "eeqCoeff = push!(eeqCoeff, 0, 0, 0, 0) + pushfirst!([eulerCoeff[4], eulerCoeff[5], eulerCoeff[6], eulerCoeff[8]], 0, 0, 0, 0, 0)"
   ]
  },
  {
   "cell_type": "markdown",
   "metadata": {},
   "source": [
    "Substituting out $\\tilde c_t$, we can write two equations as follows:\n",
    "\\begin{align*}\n",
    " 0 \\approx \\mathbb{E}_t (a_1 \\tilde k_t + a_2 \\tilde k_{t+1} + a_3 \\tilde l_t + a_4 \\tilde z_t + a_5 \\tilde \\tau_{lt} + a_6 \\tilde g_t)\\\\\n",
    "0 \\approx \\mathbb{E}_t (b_1 \\tilde k_t + b_2 \\tilde k_{t+1} + b_3 \\tilde k_{t+2} + b_4 \\tilde l_t + b_5 \\tilde l_{t+1} + b_6 \\tilde z_t + b_7 \\tilde \\tau_{xt} + b_8 \\tilde g_t + b_9 \\tilde z_{t+1} + b_{10} \\tilde \\tau_{xt+1} + b_{11} \\tilde g_{t+1})     \n",
    "\\end{align*}\n",
    "This finishes the log-linearising part. Next, we use the Modified Vaughan's method to solve these system of expectational equations. The equations can be written in matrix form as:\n",
    "\n",
    "\\begin{align*}\n",
    "0 \\approx \\mathbb{E}_t \\bigg\\{ \\underbrace{\\begin{bmatrix} 1 & 0 & 0\\\\\n",
    "0 & 0 & 0 \\\\ 0 & b_3 & b_5 \\end{bmatrix}}_{=A_1} \\begin{bmatrix} \\tilde k_{t+1} \\\\ \\tilde k_{t+2} \\\\ \\tilde l_{t+1}\\end{bmatrix} + \\underbrace{\\begin{bmatrix} 0 & -1 & 0 \\\\ a_1 & a_2 & a_3 \\\\ b_1 & b_2 & b_4 \\end{bmatrix}}_{=A_2} \\begin{bmatrix} \\tilde k_t \\\\ \\tilde k_{t+1} \\\\ \\tilde l_t \\end{bmatrix} + \\begin{bmatrix} 0 & 0 & 0 & 0 & 0 & 0 & 0 & 0 \\\\ a_4 & a_5 & 0 & a_6 & 0 & 0 & 0 & 0\\\\ b_6 & 0 & b_7 & b_8 & b_9 & 0 & b_{10} & b_{11} \\end{bmatrix} \\begin{bmatrix} S_t \\\\ S_{t+1}\\end{bmatrix}\\bigg\\}\n",
    "\\end{align*}\n",
    "where, the tilde variables are log deviations from the steady state. We will look for solution of the form:\n",
    "\\begin{align*}\n",
    "\\tilde k_{t+1} &= A \\tilde k_t + BS_t\\\\\n",
    "Z_t &= CX_t + DS_t\\\\\n",
    "S_t &= PS_{t-1} + Q\\epsilon_t\n",
    "\\end{align*}\n",
    "where, $Z_t = [\\tilde k_{t+1} \\tilde l_t]^T$ "
   ]
  },
  {
   "cell_type": "code",
   "execution_count": 105,
   "metadata": {},
   "outputs": [
    {
     "data": {
      "text/plain": [
       "2-element Array{Float64,1}:\n",
       "  0.9066555430324925\n",
       " -0.3463783597489036"
      ]
     },
     "execution_count": 105,
     "metadata": {},
     "output_type": "execute_result"
    }
   ],
   "source": [
    "# Defining the matrices A1 and A2\n",
    "A1 = [1 0 0; 0 0 0; 0 b[3] b[5]]\n",
    "A2 = [0 -1 0; a[1] a[2] a[3]; b[1] b[2] b[4]]\n",
    "\n",
    "# Modified Vaughan's method\n",
    "# Step 1: Find the generalised eigenvalues and eigenvectors\n",
    "evalues, evectors = eigen(A1, -A2)\n",
    "# Step 2: Sort the eigenvalues and eigenvectors so that they are in (1,1) position\n",
    "indx = sortperm(-evalues) # Descending order\n",
    "Λ = evalues[indx] # Re-arranging eigenvalues\n",
    "V = evectors[:,indx] # Re-arranging eigenvectors\n",
    "Λ = Diagonal(Λ)\n",
    "# Step 3: Calculate A and C\n",
    "A = V[1,1]*Λ[1]*V[1,1]^(-1)\n",
    "c = V[2:end,1]*V[1,1]^(-1)\n",
    "# Step 4: Calculate B and D"
   ]
  },
  {
   "cell_type": "code",
   "execution_count": null,
   "metadata": {},
   "outputs": [],
   "source": []
  }
 ],
 "metadata": {
  "kernelspec": {
   "display_name": "Julia 1.0.0",
   "language": "julia",
   "name": "julia-1.0"
  },
  "language_info": {
   "file_extension": ".jl",
   "mimetype": "application/julia",
   "name": "julia",
   "version": "1.0.0"
  }
 },
 "nbformat": 4,
 "nbformat_minor": 2
}
