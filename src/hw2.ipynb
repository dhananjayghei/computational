{
 "cells": [
  {
   "cell_type": "markdown",
   "metadata": {},
   "source": [
    "# ECON 8185 - Homework 2\n",
    "### Business Cycle Accounting\n",
    "### Dhananjay Ghei\n",
    "\n",
    "\n",
    "1. Write a code that derives the log-linearised solution to the\n",
    "  prototype growth model with wedges in state-space form with\n",
    "  measurement error\n",
    "  \\begin{align*}\n",
    "    X_{t+1} &= AX_t + B\\epsilon_{t+1}\\\\\n",
    "    Y_t &= CX_t + \\omega_t\n",
    "  \\end{align*}\n",
    "  where $X_t = [\\text{log}\\tilde{k}_t, s_t, 1]$,\n",
    "  $s_t = [\\text{log}A_t, \\text{log}\\tau_{l,t}, \\text{log}\\tau_{x,t},\n",
    "  \\text{log}\\hat{g}_t]$,\n",
    "  $Y_t = [\\text{log}\\hat{y}_t, \\text{log}\\hat{x}_t, \\text{log}l_t,\n",
    "  \\text{log}\\hat{g}_t]$\n",
    "  and $\\omega_t \\sim N(0,R)$ is i.i.d. Please use a standard\n",
    "  calibration for preference and technology parameters and the only\n",
    "  unknown parameters $\\{P,Q\\}$ which describe the law of motion for\n",
    "  the wedges:\n",
    "  \\begin{align*}\n",
    "    s_{t+1} = Ps_t+Q\\epsilon_{t+1}\n",
    "  \\end{align*}"
   ]
  },
  {
   "cell_type": "markdown",
   "metadata": {},
   "source": [
    "The prototype growth model as in Chari, Kehoe, McGrattan (2007) (CKM,\n",
    "hereafter) is as follows:\n",
    "\\begin{align*}\n",
    "  \\max_{\\{c_t, l_t, x_t, k_{t+1}\\}} \\mathbb{E}_0 \\sum_{t=0}^{\\infty} \\beta^t\n",
    "  &\\frac{(c_t(1-l_t)^{\\psi})^{1-\\sigma}}{1-\\sigma}N_t\\\\\n",
    "  c_t + (1+\\tau_{xt})x_t &= r_tk_t+(1-\\tau_{lt})w_tl_t+T_t\\\\\n",
    "  N_{t+1}k_{t+1} &= [(1-\\delta)k_t+x_t]N_t\\\\\n",
    "  0 \\leq &l_t \\leq 1\\\\\n",
    "  S_t &= PS_{t-1} + Q\\epsilon_t\\\\\n",
    "  c_t,x_t &\\geq 0 \n",
    "\\end{align*}\n",
    "where $N_t = (1+\\gamma_n)^t$ and firm technology is\n",
    "$Y_t = K_t^{\\theta} (Z_tL_t)^{1-\\theta}$. Factors are paid their\n",
    "marginal products $r$ and $w$, and revenues in excess of government\n",
    "purchases of goods and services, $N_tg_t$, are lump-sum transferred to\n",
    "households in amount $T_t$. The stochastic shocks hitting this economy\n",
    "affect technology, tax rates, and government spending and the\n",
    "stochastic processes are modelled as a VAR(1) process. The resource\n",
    "constraint in this economy is $Y_t=N_t(c_t+x_t+g_t)$.\n",
    "\n",
    "We de-trend the variables in the usual way and denote them by hats. We\n",
    "will also assume that the solution is interior and ignore the\n",
    "non-negativity constraints. The modified household problem is then\n",
    "given by:\n",
    "\\begin{align*}\n",
    "  \\max_{\\{c_t, l_t, x_t, k_{t+1}\\}} \\mathbb{E}_0 \\sum_{t=0}^{\\infty}\n",
    "  \\hat \\beta)^t\n",
    "  &\\frac{(\\hat c_t (1-l_t)^{\\psi})^{1-\\sigma}}{1-\\sigma}\\\\\n",
    "  \\hat c_t + (1+\\tau_{xt})\\hat x_t &= r_t \\hat k_t+(1-\\tau_{lt})w_tl_t+\\hat T_t\\\\\n",
    "  (1+\\gamma_n)(1+\\gamma_z) \\hat k_{t+1} &= [(1-\\delta) \\hat k_t+ \\hat x_t]\\\\\n",
    "  0 \\leq &l_t \\leq 1\\\\\n",
    "  S_t &= PS_{t-1} + Q\\epsilon_t\n",
    "\\end{align*}\n",
    "where, $\\hat \\beta \\equiv \\beta (1+\\gamma_n) (1+\\gamma_z)^{1-\\sigma}$."
   ]
  },
  {
   "cell_type": "code",
   "execution_count": 1,
   "metadata": {},
   "outputs": [],
   "source": [
    "# Loading the required libraries\n",
    "using ForwardDiff\n",
    "using NLSolversBase\n",
    "using NLsolve\n",
    "using SymPy\n",
    "using LinearAlgebra"
   ]
  },
  {
   "cell_type": "code",
   "execution_count": 3,
   "metadata": {},
   "outputs": [
    {
     "data": {
      "text/plain": [
       "(0.2, 0.3, 1, 0.5)"
      ]
     },
     "execution_count": 3,
     "metadata": {},
     "output_type": "execute_result"
    }
   ],
   "source": [
    "# Setting up the parameters\n",
    "β, δ, ψ, θ, γn, γz, σ = .975, .05, 2.5, .33, .010, .019, 1\n",
    "τx, τl, zss, ḡ = .2,.3, 1, .5\n",
    "# Setting up the coefficients for P and Q"
   ]
  },
  {
   "cell_type": "markdown",
   "metadata": {},
   "source": [
    "The three equations characterising the non-stochastic steady state is given by:\n",
    "$$\\frac{\\psi \\hat c}{1-l} = (1-\\tau_l)(1-\\theta) \\hat k^{\\theta} z^{1-\\theta} l^{-\\theta}$$\n",
    "\n",
    "$$\\hat c = \\hat k^{\\theta} (z l)^{1-\\theta} -(1+\\gamma_n) (1+\\gamma_z) \\hat k + (1-\\delta) \\hat k - g$$\n",
    "\n",
    "$$\\frac{\\hat k}{l} = \\bigg[\\frac{(1+\\tau_x)((1+\\gamma_n)(1+\\gamma_z)-\\hat \\beta (1-\\delta))}{\\hat \\beta \\theta z^{1-\\theta}}\\bigg]^{\\frac{1}{\\theta-1}}$$\n",
    "\n",
    "where, $\\hat \\beta = \\beta (1+\\gamma_n) (1+\\gamma_z)^{1-\\sigma}$.\n",
    "\n",
    "We put these equations in a non-linear solver and solve for the non-stochastic steady state."
   ]
  },
  {
   "cell_type": "code",
   "execution_count": 4,
   "metadata": {},
   "outputs": [
    {
     "data": {
      "text/plain": [
       "(2.4619617436894847, 0.504878278536013, 0.15668089232263566)"
      ]
     },
     "execution_count": 4,
     "metadata": {},
     "output_type": "execute_result"
    }
   ],
   "source": [
    "#----------------------------------------#\n",
    "# Solve for non-stochastic steady state  #\n",
    "#----------------------------------------#\n",
    "kss, lss, css = Sym(\"kss\", \"lss\",\"css\")\n",
    "eq1 = kss/lss - (((1+τx)*((1+γn)*(1+γz)-β*(1+γn)*(1+γz)^(1-σ)*(1-δ)))/\n",
    "    (β*(1+γn)*(1+γz)^(1-σ)*θ*zss^(1-θ)))^(1/(θ-1))\n",
    "eq2 = css - ((kss/lss)^(θ-1)*zss^(1-θ)-(1+γn)*(1+γz)+1-δ)*kss+ḡ\n",
    "eq3 = ψ*css/(1-lss) -((1-τl)*(1-θ)*(kss/lss)^(θ)*zss^(1-θ))\n",
    "# Solving for the non-stochastic steady state\n",
    "sol = nsolve([eq1, eq2, eq3], [kss, lss, css], [.7,.3,.56])\n",
    "kss, lss, css = convert(AbstractFloat, sol[1]), convert(AbstractFloat, sol[2]), convert(AbstractFloat, sol[3])"
   ]
  },
  {
   "cell_type": "markdown",
   "metadata": {},
   "source": [
    "Next, we begin log-linearisation.\n",
    "\n",
    "Log-linearisation is done around the steady state values."
   ]
  },
  {
   "cell_type": "code",
   "execution_count": 5,
   "metadata": {},
   "outputs": [
    {
     "data": {
      "text/plain": [
       "5-element Array{Float64,1}:\n",
       "  -3.1911995942070956\n",
       " -16.171891603541255 \n",
       "  16.721286302326604 \n",
       "   3.6418048954217483\n",
       "   3.6418048954217483"
      ]
     },
     "execution_count": 5,
     "metadata": {},
     "output_type": "execute_result"
    }
   ],
   "source": [
    "#----------------------------------------#\n",
    "#             Log linearisation          #\n",
    "#----------------------------------------#\n",
    "# Consumption\n",
    "function CFun(x)\n",
    "    g,kPrime,k,z,l = x\n",
    "    y = log((((kss^(θ)*exp(θ*k))*((zss*lss)^(1-θ)*exp((1-θ)*z)*exp((1-θ)*l)))+\n",
    "            (1-δ)*kss*exp(k)-(1+γn)*(1+γz)*kss*exp(kPrime)-ḡ*exp(g))/css)\n",
    "    return y\n",
    "end\n",
    "cCoeff = ForwardDiff.gradient(CFun, [0,0,0,0,0])"
   ]
  },
  {
   "cell_type": "code",
   "execution_count": 6,
   "metadata": {
    "scrolled": true
   },
   "outputs": [
    {
     "data": {
      "text/plain": [
       "6-element Array{Float64,1}:\n",
       "  6.420503410410818 \n",
       " -6.334566017469458 \n",
       "  1.9551857063409654\n",
       "  1.1640626070586413\n",
       "  0.1678723846313953\n",
       " -1.2500000000000016"
      ]
     },
     "execution_count": 6,
     "metadata": {},
     "output_type": "execute_result"
    }
   ],
   "source": [
    "# Labor\n",
    "function LFun(x)\n",
    "    c,k,z,τ,l = x\n",
    "    y = ψ*css*exp(c)-(((1-τl*exp(τ))*(1-θ)*(kss^(θ)*exp(θ*k)*(lss^(-θ)*exp(-θ*l))*\n",
    "                (zss^(1-θ)*exp((1-θ)*z)))*(1-lss*exp(l))))\n",
    "    return y\n",
    "end\n",
    "lCoeff = ForwardDiff.gradient(LFun, [0,0,0,0,0])\n",
    "# Coefficients in terms of c,k,z,tau\n",
    "# lCoeffInt[1:4] = lCoeffInt[1:4]/lCoeffInt[5]\n",
    "# Substituting in the coefficients of c in terms of g,kPrime, k, z,l\n",
    "# clCoeff = push!(lCoeffInt[1]*cCoeff[1:4], 0) + [0, 0, lCoeffInt[2], lCoeffInt[3], lCoeffInt[4]]\n",
    "# Log linearised labor in terms of g,kPrime,k,z,tau\n",
    "# lCoeff = clCoeff/(1-lCoeffInt[1]*cCoeff[5])\n",
    "\n",
    "# Substitute out consumption\n",
    "lNew = lCoeff[1]*cCoeff + [0, 0, lCoeff[2], lCoeff[3], lCoeff[5]]\n",
    "# Getting the coefficients in right order for the Consumption-leisure equation\n",
    "# a1 k, a2 kPrime, a3 l, a4 z, a5 \\tau_l, a6 g\n",
    "a = [lNew[3], lNew[2], lNew[5], lNew[4], lCoeff[4], lNew[1]]"
   ]
  },
  {
   "cell_type": "code",
   "execution_count": 7,
   "metadata": {},
   "outputs": [
    {
     "data": {
      "text/plain": [
       "5-element Array{Float64,1}:\n",
       "  0.2624404946404147 \n",
       " -0.08660536323133682\n",
       "  0.15416486859092224\n",
       "  0.7824744977030348 \n",
       "  0.35421734511007935"
      ]
     },
     "execution_count": 7,
     "metadata": {},
     "output_type": "execute_result"
    }
   ],
   "source": [
    "# Output\n",
    "yss = kss^(θ)*(zss*lss)^(1-θ)\n",
    "function gdp(x)\n",
    "    k,z,l = x\n",
    "    y = log((kss^(θ)*exp(θ*k)*(zss*lss)^(1-θ)*exp((1-θ)*z)*exp((1-θ)*l))/yss)\n",
    "    return y\n",
    "end\n",
    "# Log linearising output w.r.t k,z,l\n",
    "gdpCoeff = ForwardDiff.gradient(gdp, [0,0,0])\n",
    "# Log linearised output in terms of g,kPrime,k,z,tau\n",
    "gdpCoeff = gdpCoeff[3]*lCoeff + pushfirst!(push!(gdpCoeff[1:2],0),0,0)"
   ]
  },
  {
   "cell_type": "code",
   "execution_count": 8,
   "metadata": {},
   "outputs": [
    {
     "data": {
      "text/plain": [
       "5-element Array{Float64,1}:\n",
       "   0.0              \n",
       "  12.996464200025246\n",
       " -11.996464200025246\n",
       "   0.0              \n",
       "   0.0              "
      ]
     },
     "execution_count": 8,
     "metadata": {},
     "output_type": "execute_result"
    }
   ],
   "source": [
    "# Investment\n",
    "xss = kss*(1+γn)*(1+γz) - (1-δ)*kss\n",
    "function investment(x)\n",
    "    kPrime, k = x\n",
    "    y = log(((kss*exp(kPrime)*(1+γn)*(1+γz))-(1-δ)*kss*exp(k))/xss)\n",
    "    return y\n",
    "end\n",
    "# Log linearising investment w.r.t kPrime and k\n",
    "invCoeff = ForwardDiff.gradient(investment, [0,0])\n",
    "# Log linearised investment in terms of g, kPrime, k, z, tau\n",
    "invCoeff = pushfirst!(push!(invCoeff, 0, 0), 0)"
   ]
  },
  {
   "cell_type": "code",
   "execution_count": 9,
   "metadata": {},
   "outputs": [
    {
     "data": {
      "text/plain": [
       "8-element Array{Float64,1}:\n",
       " -7.882441704868792  \n",
       "  7.882441704868793  \n",
       "  0.48070130877802575\n",
       " -0.48070130877802575\n",
       "  1.3137402841447987 \n",
       " -1.194162844150265  \n",
       "  0.0                \n",
       " -0.48070130877802575"
      ]
     },
     "execution_count": 9,
     "metadata": {},
     "output_type": "execute_result"
    }
   ],
   "source": [
    "# Euler equation\n",
    "function eulerEQ(x)\n",
    "  c,cPrime,kPrime,zPrime,τX,τXPrime,l,lPrime = x\n",
    "  y = (1+τx*exp(τX))*(1+γn)*(1+γz)*(css^(-σ)*exp(-σ*c))*(1-lss*exp(l))^(ψ*(1-σ)) - \n",
    "    β*(1+γn)*(1+γz)^(1-σ)*(css^(-σ)*exp(-σ*cPrime))*(1-lss*exp(lPrime))^(ψ*(1-σ))*\n",
    "    (θ*kss^(θ-1)*exp((θ-1)*kPrime)*(zss^(1-θ)*exp((1-θ)*zPrime))*(lss^(1-θ)*exp((1-θ)*\n",
    "                lPrime)) + (1-δ)*(1+τx*exp(τXPrime)))\n",
    "  return y\n",
    "end\n",
    "eulerEQ(zeros(8))\n",
    "eulerCoeff = ForwardDiff.gradient(eulerEQ, zeros(8))"
   ]
  },
  {
   "cell_type": "code",
   "execution_count": 10,
   "metadata": {},
   "outputs": [
    {
     "data": {
      "text/plain": [
       "11-element Array{Float64,1}:\n",
       " -131.80456450851048  \n",
       "  259.75925863965955  \n",
       " -127.47399282237105  \n",
       "  -28.70631478866772  \n",
       "   28.225613479889695 \n",
       "  -28.70631478866772  \n",
       "    1.3137402841447987\n",
       "   25.154444769938376 \n",
       "   28.225613479889695 \n",
       "   -1.194162844150265 \n",
       "  -25.15444476993838  "
      ]
     },
     "execution_count": 10,
     "metadata": {},
     "output_type": "execute_result"
    }
   ],
   "source": [
    "# Eliminating c and cPrime from the equation\n",
    "temp1 = eulerCoeff[1]*cCoeff\n",
    "temp2 = eulerCoeff[2]*cCoeff\n",
    "kPC = temp1[2] + temp2[3] + eulerCoeff[3]\n",
    "zPC = temp2[4] + eulerCoeff[4]\n",
    "lPC = temp2[5] + eulerCoeff[8]\n",
    "lC = temp1[5] + eulerCoeff[7]\n",
    "b = [temp1[3], kPC, temp2[2], lC, lPC, temp1[4], eulerCoeff[5], temp1[1], zPC, \n",
    "    eulerCoeff[6], temp2[1]]"
   ]
  },
  {
   "cell_type": "code",
   "execution_count": 11,
   "metadata": {},
   "outputs": [
    {
     "data": {
      "text/plain": [
       "9-element Array{Float64,1}:\n",
       "   50.30888953987676   \n",
       "  254.46728433596402   \n",
       " -263.609129017021     \n",
       "  -57.41262957733544   \n",
       "  -57.41262957733544   \n",
       "   -0.48070130877802575\n",
       "    1.3137402841447987 \n",
       "   -1.194162844150265  \n",
       "   -0.48070130877802575"
      ]
     },
     "execution_count": 11,
     "metadata": {},
     "output_type": "execute_result"
    }
   ],
   "source": [
    "# Eliminating c, cPrime from the Euler equation\n",
    "eeqCoeff = eulerCoeff[1]*cCoeff-eulerCoeff[2]*cCoeff+[0, -eulerCoeff[3], 0, 0, eulerCoeff[7]] \n",
    "eeqCoeff = push!(eeqCoeff, 0, 0, 0, 0) + pushfirst!([eulerCoeff[4], eulerCoeff[5], eulerCoeff[6], eulerCoeff[8]], 0, 0, 0, 0, 0)"
   ]
  },
  {
   "cell_type": "markdown",
   "metadata": {},
   "source": [
    "Substituting out $\\tilde c_t$, we can write two equations as follows:\n",
    "$$ 0 \\approx \\mathbb{E}_t (a_1 \\tilde k_t + a_2 \\tilde k_{t+1} + a_3 \\tilde l_t + a_4 \\tilde z_t + a_5 \\tilde \\tau_{lt} + a_6 \\tilde g_t) $$\n",
    "$$ 0 \\approx \\mathbb{E}_t (b_1 \\tilde k_t + b_2 \\tilde k_{t+1} + b_3 \\tilde k_{t+2} + b_4 \\tilde l_t + b_5 \\tilde l_{t+1} + b_6 \\tilde z_t + b_7 \\tilde \\tau_{xt} + b_8 \\tilde g_t + b_9 \\tilde z_{t+1} + b_{10} \\tilde \\tau_{xt+1} + b_{11} \\tilde g_{t+1})   $$\n",
    "\n",
    "This finishes the log-linearising part. Next, we use the Modified Vaughan's method to solve these system of expectational equations. The equations can be written in matrix form as:\n",
    "\n",
    "$$ 0 \\approx \\mathbb{E}_t \\bigg\\{ \\underbrace{\\begin{bmatrix} 1 & 0 & 0\\\\\n",
    "0 & 0 & 0 \\\\ 0 & b_3 & b_5 \\end{bmatrix}}_{=A_1} \\begin{bmatrix} \\tilde k_{t+1} \\\\ \\tilde k_{t+2} \\\\ \\tilde l_{t+1}\\end{bmatrix} + \\underbrace{\\begin{bmatrix} 0 & -1 & 0 \\\\ a_1 & a_2 & a_3 \\\\ b_1 & b_2 & b_4 \\end{bmatrix}}_{=A_2} \\begin{bmatrix} \\tilde k_t \\\\ \\tilde k_{t+1} \\\\ \\tilde l_t \\end{bmatrix} + \\begin{bmatrix} 0 & 0 & 0 & 0 & 0 & 0 & 0 & 0 \\\\ a_4 & a_5 & 0 & a_6 & 0 & 0 & 0 & 0\\\\ b_6 & 0 & b_7 & b_8 & b_9 & 0 & b_{10} & b_{11} \\end{bmatrix} \\begin{bmatrix} S_t \\\\ S_{t+1}\\end{bmatrix}\\bigg\\} $$\n",
    "where, the tilde variables are log deviations from the steady state. We will look for solution of the form:\n",
    "\\begin{align*}\n",
    "\\tilde k_{t+1} &= A \\tilde k_t + BS_t\\\\\n",
    "Z_t &= CX_t + DS_t\\\\\n",
    "S_t &= PS_{t-1} + Q\\epsilon_t\n",
    "\\end{align*}\n",
    "where, $Z_t = [\\tilde k_{t+1} \\tilde l_t]^T$ "
   ]
  },
  {
   "cell_type": "code",
   "execution_count": 15,
   "metadata": {},
   "outputs": [
    {
     "data": {
      "text/plain": [
       "1"
      ]
     },
     "execution_count": 15,
     "metadata": {},
     "output_type": "execute_result"
    }
   ],
   "source": [
    "# Defining the matrices A1 and A2\n",
    "A1 = [1 0 0; 0 0 0; 0 b[3] b[5]]\n",
    "A2 = [0 -1 0; a[1] a[2] a[3]; b[1] b[2] b[4]]\n",
    "\n",
    "# Modified Vaughan's method\n",
    "# Step 1: Find the generalised eigenvalues and eigenvectors\n",
    "evalues, evectors = eigen(A1, -A2)\n",
    "# Step 2: Sort the eigenvalues and eigenvectors so that they are in (1,1) position\n",
    "indx = sortperm(-evalues) # Descending order\n",
    "Λ = evalues[indx] # Re-arranging eigenvalues\n",
    "V = evectors[:,indx] # Re-arranging eigenvectors\n",
    "Λ = Diagonal(Λ)\n",
    "# Step 3: Calculate A and C\n",
    "A = V[1,1]*Λ[1]*V[1,1]^(-1)\n",
    "c = V[2:end,1]*V[1,1]^(-1)\n",
    "# Step 4: Set up P and Q matrices\n",
    "P = []"
   ]
  },
  {
   "cell_type": "markdown",
   "metadata": {},
   "source": [
    "2. Construct a series for $Y_t$ following Appendix B of the attached file. Use US data on quarterly frequency.\n",
    "\n",
    "I download the data from FRED/NIPA accounts as mentioned in the Appendix and dump it in bca_fredUS.csv. Next, I load the data in R and construct the series output per capita ($y$), investment per capita ($x$), government consumption per capita ($g$) and hours worked per capita ($l$) according to the formulas mentioned in the Appendix. The data is stored in bcaFinal.csv"
   ]
  },
  {
   "cell_type": "code",
   "execution_count": 12,
   "metadata": {},
   "outputs": [],
   "source": [
    "using CSV"
   ]
  },
  {
   "cell_type": "code",
   "execution_count": 13,
   "metadata": {},
   "outputs": [
    {
     "data": {
      "text/html": [
       "<table class=\"data-frame\"><thead><tr><th></th><th>Column1</th><th>quarter</th><th>real_output_pc</th><th>real_inv_pc</th><th>real_gov_pc</th><th>real_labor_inp</th></tr></thead><tbody><tr><th>1</th><td>1</td><td>1980 Q1</td><td>48586.9105990427</td><td>10845.1875858002</td><td>8879.82800096174</td><td>334.85973282038</td></tr><tr><th>2</th><td>2</td><td>1980 Q2</td><td>47066.5255141167</td><td>10010.8799275801</td><td>9254.55398661326</td><td>327.433931389294</td></tr><tr><th>3</th><td>3</td><td>1980 Q3</td><td>46899.9421006047</td><td>9612.12910522863</td><td>9312.02939398858</td><td>325.750162831166</td></tr><tr><th>4</th><td>4</td><td>1980 Q4</td><td>47671.5831129338</td><td>10175.7817937742</td><td>9109.21891037207</td><td>328.401170110924</td></tr><tr><th>5</th><td>5</td><td>1981 Q1</td><td>48286.5285640456</td><td>10812.796831407</td><td>9100.26790155325</td><td>331.84145849879</td></tr><tr><th>6</th><td>6</td><td>1981 Q2</td><td>47681.2390850327</td><td>10398.7822692828</td><td>9186.19496370442</td><td>325.753274890697</td></tr><tr><th>7</th><td>7</td><td>1981 Q3</td><td>48231.2703669316</td><td>10751.8797467749</td><td>9129.66257280215</td><td>328.88620060535</td></tr><tr><th>8</th><td>8</td><td>1981 Q4</td><td>47434.7229246913</td><td>10463.2074061138</td><td>9117.83550432998</td><td>324.699052558695</td></tr><tr><th>9</th><td>9</td><td>1982 Q1</td><td>46737.8286874706</td><td>9834.06414210963</td><td>9118.05116302584</td><td>319.185862620486</td></tr><tr><th>10</th><td>10</td><td>1982 Q2</td><td>46875.6681979353</td><td>9883.79504490235</td><td>9140.86637732951</td><td>320.179185045055</td></tr><tr><th>11</th><td>11</td><td>1982 Q3</td><td>46607.0618267059</td><td>9811.41215291239</td><td>8984.84173150782</td><td>317.691939765284</td></tr><tr><th>12</th><td>12</td><td>1982 Q4</td><td>46606.7834078536</td><td>9506.2347766876</td><td>9069.24614179322</td><td>315.719937195359</td></tr><tr><th>13</th><td>13</td><td>1983 Q1</td><td>47090.4607509843</td><td>9691.84266149377</td><td>9136.42499506435</td><td>317.116276223277</td></tr><tr><th>14</th><td>14</td><td>1983 Q2</td><td>48151.0986024387</td><td>10280.3130341974</td><td>8996.87280491708</td><td>319.793508560479</td></tr><tr><th>15</th><td>15</td><td>1983 Q3</td><td>49075.5542161727</td><td>10788.3776183975</td><td>8899.20690051298</td><td>324.784618657774</td></tr><tr><th>16</th><td>16</td><td>1983 Q4</td><td>50069.3786723372</td><td>11504.2890326392</td><td>8530.7646206601</td><td>328.750283436796</td></tr><tr><th>17</th><td>17</td><td>1984 Q1</td><td>50895.7956829364</td><td>12226.2276134213</td><td>8356.76512544332</td><td>332.966815596859</td></tr><tr><th>18</th><td>18</td><td>1984 Q2</td><td>51699.2773897806</td><td>12554.9644127772</td><td>8462.92136512387</td><td>337.806549516683</td></tr><tr><th>19</th><td>19</td><td>1984 Q3</td><td>52073.432486768</td><td>12726.5053831453</td><td>8475.6591279085</td><td>338.465871005534</td></tr><tr><th>20</th><td>20</td><td>1984 Q4</td><td>52441.6472675709</td><td>12809.0491225096</td><td>8518.58817034386</td><td>339.044324052998</td></tr><tr><th>21</th><td>21</td><td>1985 Q1</td><td>52965.6870241902</td><td>12701.027604982</td><td>8706.52096998587</td><td>341.066654212927</td></tr><tr><th>22</th><td>22</td><td>1985 Q2</td><td>53341.137601014</td><td>12962.7207356743</td><td>8650.7492381904</td><td>341.409593398334</td></tr><tr><th>23</th><td>23</td><td>1985 Q3</td><td>54217.1179461829</td><td>13122.6956662805</td><td>8841.62736713579</td><td>342.797983994855</td></tr><tr><th>24</th><td>24</td><td>1985 Q4</td><td>54367.0306820312</td><td>13264.6219351901</td><td>8819.13328894665</td><td>345.812384352632</td></tr><tr><th>25</th><td>25</td><td>1986 Q1</td><td>54636.1683122224</td><td>13269.9877695604</td><td>8932.79976883687</td><td>345.300272822938</td></tr><tr><th>26</th><td>26</td><td>1986 Q2</td><td>54909.1746457099</td><td>13282.6828238062</td><td>8976.84122535741</td><td>346.720335134977</td></tr><tr><th>27</th><td>27</td><td>1986 Q3</td><td>55585.2530687295</td><td>13428.8480008717</td><td>9058.11649841822</td><td>347.706079145056</td></tr><tr><th>28</th><td>28</td><td>1986 Q4</td><td>55660.5419274778</td><td>13330.4190672124</td><td>9109.24732808501</td><td>349.621985597307</td></tr><tr><th>29</th><td>29</td><td>1987 Q1</td><td>55654.9160299718</td><td>13389.4356413421</td><td>9152.01098103718</td><td>352.208289712598</td></tr><tr><th>30</th><td>30</td><td>1987 Q2</td><td>56218.2537518423</td><td>13535.2437019378</td><td>9200.65274510949</td><td>348.999253467172</td></tr><tr><th>&vellip;</th><td>&vellip;</td><td>&vellip;</td><td>&vellip;</td><td>&vellip;</td><td>&vellip;</td><td>&vellip;</td></tr></tbody></table>"
      ],
      "text/plain": [
       "155×6 DataFrames.DataFrame. Omitted printing of 2 columns\n",
       "│ Row │ Column1 │ quarter │ real_output_pc   │ real_inv_pc      │\n",
       "│     │ \u001b[90mInt64⍰\u001b[39m  │ \u001b[90mString⍰\u001b[39m │ \u001b[90mString⍰\u001b[39m          │ \u001b[90mString⍰\u001b[39m          │\n",
       "├─────┼─────────┼─────────┼──────────────────┼──────────────────┤\n",
       "│ 1   │ 1       │ 1980 Q1 │ 48586.9105990427 │ 10845.1875858002 │\n",
       "│ 2   │ 2       │ 1980 Q2 │ 47066.5255141167 │ 10010.8799275801 │\n",
       "│ 3   │ 3       │ 1980 Q3 │ 46899.9421006047 │ 9612.12910522863 │\n",
       "│ 4   │ 4       │ 1980 Q4 │ 47671.5831129338 │ 10175.7817937742 │\n",
       "│ 5   │ 5       │ 1981 Q1 │ 48286.5285640456 │ 10812.796831407  │\n",
       "│ 6   │ 6       │ 1981 Q2 │ 47681.2390850327 │ 10398.7822692828 │\n",
       "│ 7   │ 7       │ 1981 Q3 │ 48231.2703669316 │ 10751.8797467749 │\n",
       "│ 8   │ 8       │ 1981 Q4 │ 47434.7229246913 │ 10463.2074061138 │\n",
       "│ 9   │ 9       │ 1982 Q1 │ 46737.8286874706 │ 9834.06414210963 │\n",
       "│ 10  │ 10      │ 1982 Q2 │ 46875.6681979353 │ 9883.79504490235 │\n",
       "⋮\n",
       "│ 145 │ 145     │ 2016 Q1 │ 94670.2664002424 │ 23820.734560911  │\n",
       "│ 146 │ 146     │ 2016 Q2 │ 95259.444429361  │ 23771.9707442519 │\n",
       "│ 147 │ 147     │ 2016 Q3 │ 95831.9939231552 │ 23797.7249605353 │\n",
       "│ 148 │ 148     │ 2016 Q4 │ 96328.3989545737 │ 24118.7233718862 │\n",
       "│ 149 │ 149     │ 2017 Q1 │ 97043.4604563941 │ 24390.6837839748 │\n",
       "│ 150 │ 150     │ 2017 Q2 │ 97893.4743968553 │ 24684.1712195391 │\n",
       "│ 151 │ 151     │ 2017 Q3 │ 98627.0649444487 │ 25037.865146516  │\n",
       "│ 152 │ 152     │ 2017 Q4 │ 99480.486715385  │ 25251.1668681784 │\n",
       "│ 153 │ 153     │ 2018 Q1 │ NA               │ NA               │\n",
       "│ 154 │ 154     │ 2018 Q2 │ NA               │ NA               │\n",
       "│ 155 │ 155     │ 2018 Q3 │ NA               │ NA               │"
      ]
     },
     "execution_count": 13,
     "metadata": {},
     "output_type": "execute_result"
    }
   ],
   "source": [
    "# Reading in the data for BCA exercise\n",
    "dat = CSV.read(\"../data/bcaFinal.csv\")"
   ]
  },
  {
   "cell_type": "code",
   "execution_count": null,
   "metadata": {},
   "outputs": [],
   "source": []
  }
 ],
 "metadata": {
  "kernelspec": {
   "display_name": "Julia 1.0.0",
   "language": "julia",
   "name": "julia-1.0"
  },
  "language_info": {
   "file_extension": ".jl",
   "mimetype": "application/julia",
   "name": "julia",
   "version": "1.0.0"
  }
 },
 "nbformat": 4,
 "nbformat_minor": 2
}
